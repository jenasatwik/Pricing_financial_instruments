{
  "nbformat": 4,
  "nbformat_minor": 0,
  "metadata": {
    "colab": {
      "provenance": [],
      "authorship_tag": "ABX9TyPIzjZ/4BZ4zyqVMMCJyZa8"
    },
    "kernelspec": {
      "name": "python3",
      "display_name": "Python 3"
    },
    "language_info": {
      "name": "python"
    }
  },
  "cells": [
    {
      "cell_type": "code",
      "source": [
        "'''\n",
        "s0= Current price\n",
        "mu = mean returns\n",
        "sigma = standard dviation of returns\n",
        "steps = no of steps inb each path\n",
        "T = length of each path\n",
        "No_of_paths = no of paths\n",
        "'''\n",
        "import numpy as np\n",
        "def gbm(s0,mu,sigma,steps,T,No_of_paths):\n",
        "  paths=[]\n",
        "  dt=T/steps\n",
        "  for path in range(No_of_paths):\n",
        "    prices=[s0]\n",
        "    for step in range(steps):\n",
        "      prices.append(prices[-1]*np.exp((mu-0.5*sigma**2)*dt+sigma*np.random.normal(0,np.sqrt(dt))))\n",
        "    paths.append(prices)\n",
        "  return paths\n",
        "\n",
        "print(gbm(100,.10,.5,5,10,3))\n",
        "\n"
      ],
      "metadata": {
        "id": "p5rk6kMoE1Y5",
        "outputId": "78767c8b-382e-4158-b2a2-d2f07527c0b1",
        "colab": {
          "base_uri": "https://localhost:8080/"
        }
      },
      "execution_count": 38,
      "outputs": [
        {
          "output_type": "stream",
          "name": "stdout",
          "text": [
            "[[100, 321.23923090071224, 243.77179165463673, 93.94509956756082, 96.58078662302934, 106.00223745460258], [100, 94.89575634453185, 85.06525925440002, 199.72689361645578, 406.31967582258375, 386.6494245435651], [100, 58.782311883221375, 63.13194835617459, 13.466010320198496, 24.78741704295206, 32.247576671173405]]\n"
          ]
        }
      ]
    }
  ]
}