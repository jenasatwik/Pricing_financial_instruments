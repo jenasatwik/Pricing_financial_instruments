{
  "nbformat": 4,
  "nbformat_minor": 0,
  "metadata": {
    "colab": {
      "provenance": [],
      "authorship_tag": "ABX9TyMN06hSe8fIvdt2Ze6gS2fz"
    },
    "kernelspec": {
      "name": "python3",
      "display_name": "Python 3"
    },
    "language_info": {
      "name": "python"
    }
  },
  "cells": [
    {
      "cell_type": "code",
      "source": [
        "def gbm():\n",
        "  pass"
      ],
      "metadata": {
        "id": "p5rk6kMoE1Y5"
      },
      "execution_count": 30,
      "outputs": []
    }
  ]
}