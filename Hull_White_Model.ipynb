{
  "nbformat": 4,
  "nbformat_minor": 0,
  "metadata": {
    "colab": {
      "provenance": [],
      "authorship_tag": "ABX9TyOxWg7EUcVfbDcQDS+f+gyW",
      "include_colab_link": true
    },
    "kernelspec": {
      "name": "python3",
      "display_name": "Python 3"
    },
    "language_info": {
      "name": "python"
    }
  },
  "cells": [
    {
      "cell_type": "markdown",
      "metadata": {
        "id": "view-in-github",
        "colab_type": "text"
      },
      "source": [
        "<a href=\"https://colab.research.google.com/github/jenasatwik/Pricing_financial_instruments/blob/main/Hull_White_Model.ipynb\" target=\"_parent\"><img src=\"https://colab.research.google.com/assets/colab-badge.svg\" alt=\"Open In Colab\"/></a>"
      ]
    },
    {
      "cell_type": "code",
      "source": [
        "import numpy as np\n",
        "\n",
        "# Function to calculate zero coupon bond price\n",
        "def zero_coupon_bond_price(face_value, yield_to_maturity, time_to_maturity):\n",
        "    return face_value / (1 + yield_to_maturity)**time_to_maturity\n",
        "\n",
        "# Function to calculate forward rate\n",
        "def forward_rate(price_t, price_T, time_t, time_T):\n",
        "    return ((price_t / price_T) ** (1 / (time_T - time_t)) - 1)\n",
        "\n",
        "# Derive zero coupon bond prices from the yield curve\n",
        "zero_coupon_bond_prices = {}\n",
        "for maturity, yield_to_maturity in yield_curve.items():\n",
        "    price = zero_coupon_bond_price(face_value, yield_to_maturity, maturity)\n",
        "    zero_coupon_bond_prices[maturity] = price\n",
        "\n",
        "# Calculate forward rates\n",
        "forward_rates = {}\n",
        "for i in range(1, len(yield_curve)):\n",
        "    maturity_t = list(yield_curve.keys())[i-1]\n",
        "    maturity_T = list(yield_curve.keys())[i]\n",
        "    price_t = zero_coupon_bond_prices[maturity_t]\n",
        "    price_T = zero_coupon_bond_prices[maturity_T]\n",
        "    rate = forward_rate(price_t, price_T, maturity_t, maturity_T)\n",
        "    forward_rates[maturity_T] = rate\n",
        "\n",
        "# Print the derived zero coupon bond prices and forward rates\n",
        "print(\"Derived Zero Coupon Bond Prices:\")\n",
        "for maturity, price in zero_coupon_bond_prices.items():\n",
        "    print(f\"Maturity: {maturity} years, Price: {price:.2f}\")\n",
        "\n",
        "print(\"\\nDerived Forward Rates:\")\n",
        "for maturity, rate in forward_rates.items():\n",
        "    print(f\"Maturity: {maturity} years, Forward Rate: {rate:.6f}\")"
      ],
      "metadata": {
        "id": "enE6X5xfWv8b"
      },
      "execution_count": null,
      "outputs": []
    }
  ]
}